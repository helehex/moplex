{
 "cells": [
  {
   "cell_type": "markdown",
   "metadata": {},
   "source": [
    "# Moplex ⏣\n",
    "\n",
    "Generalized Complex Numbers for Mojo🔥"
   ]
  },
  {
   "cell_type": "code",
   "execution_count": null,
   "metadata": {},
   "outputs": [],
   "source": [
    "from src import *"
   ]
  },
  {
   "cell_type": "markdown",
   "metadata": {},
   "source": [
    "## Complex Numbers\n",
    "\n",
    "Moplex defines complex numbers.  \n",
    "They have a real part, and an imaginary part, and are often written as: `z = a + bi`.  \n",
    "\n",
    "The imaginary unit, `i`, squares to `-1`:"
   ]
  },
  {
   "cell_type": "code",
   "execution_count": null,
   "metadata": {},
   "outputs": [],
   "source": [
    "print(i * i)"
   ]
  },
  {
   "cell_type": "markdown",
   "metadata": {},
   "source": [
    "## Dualplex and Hyperplex Numbers\n",
    "\n",
    "Moplex also defines 'dualplex' and 'hyperplex' numbers.\n",
    "\n",
    "Dualplex numbers have an imaginary unit, `o`, which squares to `0`.  \n",
    "Hyperplex numbers have an imaginary unit, `x`, which squares to `1`.\n",
    "\n",
    "Together, these three types of numbers form the 'Unital Hybrid Numbers'."
   ]
  },
  {
   "cell_type": "code",
   "execution_count": null,
   "metadata": {},
   "outputs": [],
   "source": [
    "print(o * o)\n",
    "print(x * x)"
   ]
  },
  {
   "cell_type": "markdown",
   "metadata": {},
   "source": [
    "## Hybrid Numbers\n",
    "\n",
    "Moplex also defines the general case for 'hybrid' numbers.  \n",
    "\n",
    "For example, we can define a number with an imaginary unit which squares to `-2`.  \n",
    "These are isomorphic to complex numbers, so they will have similar properties."
   ]
  },
  {
   "cell_type": "code",
   "execution_count": null,
   "metadata": {},
   "outputs": [],
   "source": [
    "alias MyHybrid = Hybrid64[-2]\n",
    "\n",
    "var l = MyHybrid(0, 1)\n",
    "print(l * l)"
   ]
  },
  {
   "cell_type": "markdown",
   "metadata": {},
   "source": [
    "## Multiplex Numbers\n",
    "\n",
    "You can also add two numbers with different imaginary units to create a 'multiplex' number:"
   ]
  },
  {
   "cell_type": "code",
   "execution_count": null,
   "metadata": {},
   "outputs": [],
   "source": [
    "print(Complex64(0, 1) + Dualplex64(0, 1) + Hyperplex64(0, 1))"
   ]
  }
 ],
 "metadata": {
  "kernelspec": {
   "display_name": "Mojo (nightly)",
   "language": "mojo",
   "name": "mojo-nightly-jupyter-kernel"
  },
  "language_info": {
   "codemirror_mode": {
    "name": "mojo"
   },
   "file_extension": ".mojo",
   "mimetype": "text/x-mojo",
   "name": "mojo"
  }
 },
 "nbformat": 4,
 "nbformat_minor": 2
}
