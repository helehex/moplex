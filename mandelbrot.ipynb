{
 "cells": [
  {
   "cell_type": "markdown",
   "metadata": {},
   "source": [
    "From: Modular examples/Mandelbrot.ipynb, But using Moplex Hybrid Numbers."
   ]
  },
  {
   "cell_type": "markdown",
   "metadata": {},
   "source": [
    "# Import moplex and utils"
   ]
  },
  {
   "cell_type": "code",
   "execution_count": null,
   "metadata": {},
   "outputs": [],
   "source": [
    "import benchmark\n",
    "from math import iota\n",
    "from sys import num_physical_cores\n",
    "from algorithm import parallelize, vectorize\n",
    "from src import HybridSIMD\n",
    "from python import Python\n",
    "\n",
    "alias type = DType.float64\n",
    "alias Hybrid = HybridSIMD[type=type]\n",
    "\n",
    "alias MAX_ITERS = 1000\n",
    "alias ESCAPE = 1000\n",
    "\n",
    "alias width = 800\n",
    "alias height = 800\n",
    "\n",
    "alias min_x = -2.0\n",
    "alias max_x = 2.0\n",
    "alias min_y = -2.0\n",
    "alias max_y = 2.0\n"
   ]
  },
  {
   "cell_type": "markdown",
   "metadata": {},
   "source": [
    "# Install python dependencies if missing"
   ]
  },
  {
   "cell_type": "code",
   "execution_count": null,
   "metadata": {},
   "outputs": [],
   "source": [
    "%%python\n",
    "from importlib.util import find_spec\n",
    "import shutil\n",
    "import subprocess\n",
    "\n",
    "def install_if_missing(name: str):\n",
    "    if find_spec(name):\n",
    "        return\n",
    "    print(\"missing\", name)\n",
    "    print(f\"{name} not found, installing...\")\n",
    "    try:\n",
    "        if shutil.which('python3'): python = \"python3\"\n",
    "        elif shutil.which('python'): python = \"python\"\n",
    "        else: raise (\"python not on path\" + fix)\n",
    "        subprocess.check_call([python, \"-m\", \"pip\", \"install\", name])\n",
    "    except:\n",
    "        raise ImportError(f\"{name} not found\" + fix)\n",
    "\n",
    "install_if_missing(\"numpy\")\n",
    "install_if_missing(\"matplotlib\")"
   ]
  },
  {
   "cell_type": "markdown",
   "metadata": {},
   "source": [
    "# Define matrix for storing results"
   ]
  },
  {
   "cell_type": "code",
   "execution_count": null,
   "metadata": {},
   "outputs": [],
   "source": [
    "@value\n",
    "struct Matrix[type: DType, rows: Int, cols: Int]:\n",
    "    var data: UnsafePointer[Scalar[type]]\n",
    "\n",
    "    fn __init__(inout self):\n",
    "        self.data = UnsafePointer[Scalar[type]].alloc(rows * cols)\n",
    "\n",
    "    fn __getitem__(self, row: Int, col: Int) -> Scalar[type]:\n",
    "        return self.data.load(row * cols + col)\n",
    "\n",
    "    fn store[width: Int = 1](self, row: Int, col: Int, val: SIMD[type, width]):\n",
    "        self.data.store[width=width](row * cols + col, val)"
   ]
  },
  {
   "cell_type": "markdown",
   "metadata": {},
   "source": [
    "# Define a function for visualizing results"
   ]
  },
  {
   "cell_type": "code",
   "execution_count": null,
   "metadata": {},
   "outputs": [],
   "source": [
    "def show_plot[type: DType](matrix: Matrix[type, height, width]):\n",
    "    alias scale = 1\n",
    "    alias dpi = 1\n",
    "\n",
    "    np = Python.import_module(\"numpy\")\n",
    "    plt = Python.import_module(\"matplotlib.pyplot\")\n",
    "    colors = Python.import_module(\"matplotlib.colors\")\n",
    "\n",
    "    numpy_array = np.zeros((height, width), np.float64)\n",
    "\n",
    "    for row in range(height):\n",
    "        for col in range(width):\n",
    "            numpy_array.itemset((row, col), matrix[row, col])\n",
    "\n",
    "    fig = plt.figure(1, [width, height], dpi)\n",
    "    ax = fig.add_axes([0.0, 0.0, 1.0, 1.0], False, 1)\n",
    "    light = colors.LightSource(315, 10, 0, 1, 1, 0)\n",
    "\n",
    "    image = light.shade(numpy_array, plt.cm.hot, colors.PowerNorm(0.3), \"hsv\", 0, 0, 1.5)\n",
    "    plt.imshow(image)\n",
    "    plt.axis(\"off\")\n",
    "    plt.show()"
   ]
  },
  {
   "cell_type": "markdown",
   "metadata": {},
   "source": [
    "# Mandelbrot kernel"
   ]
  },
  {
   "cell_type": "code",
   "execution_count": null,
   "metadata": {},
   "outputs": [],
   "source": [
    "fn mandelbrot_kernel(c: Hybrid) -> SIMD[DType.index, c.size]:\n",
    "    \"\"\"A vectorized implementation of the inner mandelbrot computation.\"\"\"\n",
    "    var h = c\n",
    "    var iters = SIMD[DType.index, c.size](0)\n",
    "\n",
    "    var t: SIMD[DType.bool, c.size] = True\n",
    "    for _ in range(MAX_ITERS):\n",
    "        if not any(t):\n",
    "            break\n",
    "        h = h * h + c\n",
    "        t = abs(h.denomer()) <= ESCAPE\n",
    "        iters = t.select(iters + 1, iters)\n",
    "    return iters"
   ]
  },
  {
   "cell_type": "markdown",
   "metadata": {},
   "source": [
    "# Run mandelbrot and display results"
   ]
  },
  {
   "cell_type": "code",
   "execution_count": null,
   "metadata": {},
   "outputs": [],
   "source": [
    "fn run_mandelbrot() raises:\n",
    "    var matrix = Matrix[DType.index, height, width]()\n",
    "\n",
    "    @parameter\n",
    "    fn mandelbrot_worker(row: Int):\n",
    "        alias scale_x = (max_x - min_x) / width\n",
    "        alias scale_y = (max_y - min_y) / height\n",
    "\n",
    "        @parameter\n",
    "        fn compute_vector[simd_width: Int](col: Int):\n",
    "            \"\"\"Each time we operate on a `simd_width` vector of pixels.\"\"\"\n",
    "            var cx = min_x + (col + iota[type, simd_width]()) * scale_x\n",
    "            var cy = min_y + row * SIMD[type, simd_width](scale_y)\n",
    "            var c = Hybrid[simd_width, 1](cx, cy)\n",
    "            matrix.store(row, col, mandelbrot_kernel(c))\n",
    "\n",
    "        # Vectorize the call to compute_vector where call gets a chunk of pixels.\n",
    "        vectorize[compute_vector, simdwidthof[type]()](width)\n",
    "\n",
    "\n",
    "    @parameter\n",
    "    fn bench():\n",
    "        parallelize[mandelbrot_worker](height, height)\n",
    "\n",
    "    var time = benchmark.run[bench](max_runtime_secs=0.5).mean(\"ms\")\n",
    "\n",
    "    show_plot(matrix)\n",
    "    matrix.data.free()\n",
    "    print(time)\n",
    "\n",
    "run_mandelbrot()"
   ]
  }
 ],
 "metadata": {
  "kernelspec": {
   "display_name": "Mojo (nightly)",
   "language": "mojo",
   "name": "mojo-nightly-jupyter-kernel"
  },
  "language_info": {
   "codemirror_mode": {
    "name": "mojo"
   },
   "file_extension": ".mojo",
   "mimetype": "text/x-mojo",
   "name": "mojo"
  }
 },
 "nbformat": 4,
 "nbformat_minor": 2
}
